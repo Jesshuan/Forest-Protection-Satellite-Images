{
 "cells": [
  {
   "cell_type": "markdown",
   "metadata": {},
   "source": [
    "### CAPTURE SATELLITE IMAGES FOR PAST PERIOD WITH LANDSAT-5 (1984 - 2000)"
   ]
  },
  {
   "cell_type": "code",
   "execution_count": 1,
   "metadata": {},
   "outputs": [],
   "source": [
    "import ee\n",
    "import numpy as np\n",
    "import matplotlib.pyplot as plt\n",
    "import pandas as pd\n",
    "import datetime\n",
    "import time\n",
    "from datetime import date\n",
    "import json\n",
    "from json import JSONEncoder"
   ]
  },
  {
   "cell_type": "markdown",
   "metadata": {},
   "source": [
    "Authentification auprès de Google Engine :\n",
    "\n",
    "Cliquer sur le lien et suivre les instructions (avec compte google connecté) pour récupérer le token à copier-coller."
   ]
  },
  {
   "cell_type": "code",
   "execution_count": 2,
   "metadata": {},
   "outputs": [
    {
     "data": {
      "text/html": [
       "<p>To authorize access needed by Earth Engine, open the following\n",
       "        URL in a web browser and follow the instructions:</p>\n",
       "        <p><a href=https://code.earthengine.google.com/client-auth?scopes=https%3A//www.googleapis.com/auth/earthengine%20https%3A//www.googleapis.com/auth/devstorage.full_control&request_id=XeWpYrmF8Lj6iiMsiTpvYzqUxOaOe89veAx7zxiMRJY&tc=fl9ovASShsxMXr1XBceRsXAf5ZU8BQy-dTDXrVPpBYM&cc=SB5WtlUOFLuQksM0yhpDElD9jKcNJd1keeoaAJn-3oM>https://code.earthengine.google.com/client-auth?scopes=https%3A//www.googleapis.com/auth/earthengine%20https%3A//www.googleapis.com/auth/devstorage.full_control&request_id=XeWpYrmF8Lj6iiMsiTpvYzqUxOaOe89veAx7zxiMRJY&tc=fl9ovASShsxMXr1XBceRsXAf5ZU8BQy-dTDXrVPpBYM&cc=SB5WtlUOFLuQksM0yhpDElD9jKcNJd1keeoaAJn-3oM</a></p>\n",
       "        <p>The authorization workflow will generate a code, which you should paste in the box below.</p>\n",
       "        "
      ],
      "text/plain": [
       "<IPython.core.display.HTML object>"
      ]
     },
     "metadata": {},
     "output_type": "display_data"
    },
    {
     "name": "stdout",
     "output_type": "stream",
     "text": [
      "Enter verification code:  4/1AfgeXvvjzNwH-hgP3RGUnS7i9fnBjK1mp8Fq6Cn9A9ZkDJicWTAbGoVUtbk\n"
     ]
    },
    {
     "name": "stdout",
     "output_type": "stream",
     "text": [
      "\n",
      "Successfully saved authorization token.\n",
      "NASADEM: NASA NASADEM Digital Elevation 30m\n"
     ]
    }
   ],
   "source": [
    "ee.Authenticate()\n",
    "ee.Initialize()\n",
    "print(ee.Image(\"NASA/NASADEM_HGT/001\").get(\"title\").getInfo())"
   ]
  },
  {
   "cell_type": "markdown",
   "metadata": {},
   "source": [
    "-----------"
   ]
  },
  {
   "cell_type": "markdown",
   "metadata": {},
   "source": [
    "IMPORT AND MANAGE DATA :"
   ]
  },
  {
   "cell_type": "code",
   "execution_count": 3,
   "metadata": {},
   "outputs": [],
   "source": [
    "data = pd.read_excel('DataFrames/data_parcelles_with_gps.xlsx')"
   ]
  },
  {
   "cell_type": "code",
   "execution_count": 4,
   "metadata": {},
   "outputs": [],
   "source": [
    "data_used = data[['PARCELLE','LAT', 'LON','DATE','LFI']]"
   ]
  },
  {
   "cell_type": "markdown",
   "metadata": {},
   "source": [
    "Filtrage de campagne :"
   ]
  },
  {
   "cell_type": "code",
   "execution_count": 5,
   "metadata": {},
   "outputs": [],
   "source": [
    "LFI = 'LFI1'\n",
    "\n",
    "data_used = data_used.loc[data_used['LFI']==LFI,:]"
   ]
  },
  {
   "cell_type": "markdown",
   "metadata": {},
   "source": [
    "Code for a test on few lines :"
   ]
  },
  {
   "cell_type": "code",
   "execution_count": 6,
   "metadata": {},
   "outputs": [],
   "source": [
    "#data_used = data_used[0:5]"
   ]
  },
  {
   "cell_type": "markdown",
   "metadata": {},
   "source": [
    "Code for a problematic relaunch (to filter the dataset with the problematic parcelles list) :"
   ]
  },
  {
   "cell_type": "code",
   "execution_count": 76,
   "metadata": {},
   "outputs": [],
   "source": [
    "#pb_list_df = pd.read_csv('Problematic_parcelles.csv')\n",
    "#pb_list = pb_list_df['Problematic parcelles'].to_list()\n",
    "#data_used = data_used.loc[data_used['PARCELLE'].isin(pb_list),:]"
   ]
  },
  {
   "cell_type": "markdown",
   "metadata": {},
   "source": [
    "--------------------------"
   ]
  },
  {
   "cell_type": "markdown",
   "metadata": {},
   "source": [
    "CLASS FOR EXCEPTIONS :"
   ]
  },
  {
   "cell_type": "code",
   "execution_count": 9,
   "metadata": {},
   "outputs": [],
   "source": [
    "class NoImage(Exception):\n",
    "    def __init__(self, nb_image):\n",
    "        self.__nb_image = nb_image\n",
    "\n",
    "    @property\n",
    "    def nb_image(self):\n",
    "        return self.__nb_image"
   ]
  },
  {
   "cell_type": "code",
   "execution_count": 10,
   "metadata": {},
   "outputs": [],
   "source": [
    "class NumpyArrayEncoder(JSONEncoder):\n",
    "    def default(self, obj):\n",
    "        if isinstance(obj, np.ndarray):\n",
    "            return obj.tolist()\n",
    "        if isinstance(obj, (datetime, date)):\n",
    "            return str(obj)\n",
    "        return json.JSONEncoder.default(self, obj)"
   ]
  },
  {
   "cell_type": "markdown",
   "metadata": {},
   "source": [
    "FUNCTIONS (FOR LANDSAT-5 & 7):"
   ]
  },
  {
   "cell_type": "code",
   "execution_count": 11,
   "metadata": {},
   "outputs": [],
   "source": [
    "def NDVI(img): #repère la végétation tout simplement\n",
    "    img = ee.Image(img.normalizedDifference(['B4', 'B3'])).rename([\"ndvi\"])\n",
    "    return img\n",
    "\n",
    "def EVI(img): #idem NDVI, plus fiable et fin en théorie\n",
    "    img = ee.Image(img.expression(\n",
    "        '2.5 * ((NIR - RED) / (NIR + 6 * RED - 7.5 * BLUE + 1))', {\n",
    "            'NIR': img.select('B4').divide(10000),\n",
    "            'RED': img.select('B3').divide(10000),\n",
    "            'BLUE': img.select('B1').divide(10000)\n",
    "        })).rename([\"evi\"])\n",
    "    \n",
    "    return img\n",
    "\n",
    "def NDMI(img): #repère la teneur en eau dans la végétation\n",
    "    #img = ee.Image(img.normalizedDifference(['B8', 'B11'])).rename([\"ndmi\"])\n",
    "    img = ee.Image(img.expression(\n",
    "        '(NIR - SWITCH) / (SWITCH + NIR)', {\n",
    "            'NIR': img.select('B4').divide(10000),\n",
    "            'SWITCH': img.select('B5').divide(10000)\n",
    "       })).rename([\"ndmi\"])\n",
    "    return img\n",
    "\n",
    "def NDWI(img): #teneur en d'eau en surface\n",
    "    #img = ee.Image(img.normalizedDifference(['B3', 'B8'])).rename([\"ndwi\"])\n",
    "    img = ee.Image(img.expression(\n",
    "        '(GREEN - NIR) / (GREEN + NIR)', {\n",
    "            'NIR': img.select('B4').divide(10000),\n",
    "            'GREEN': img.select('B2').divide(10000)\n",
    "        })).rename([\"ndwi\"])\n",
    "    return img\n",
    "\n",
    "\n",
    "def DSWI(img): # Disease Water Stress Index sensitive to stress due to water shortage and plant damage\n",
    "    img = ee.Image(img.expression(\n",
    "        '(NIR - GREEN) / (SWIR1 + RED)', {\n",
    "            'NIR': img.select('B4').divide(10000),\n",
    "            'RED': img.select('B3').divide(10000),\n",
    "            'GREEN': img.select('B2').divide(10000),\n",
    "            'SWIR1': img.select('B5').divide(10000),\n",
    "        })).rename([\"dswi\"])\n",
    "    \n",
    "    return img\n",
    "\n",
    "def B1(img):\n",
    "    b2 = ee.Image(img.select(['B1'])).divide(10000).rename([\"b1\"])\n",
    "    return b2\n",
    "\n",
    "def B2(img):\n",
    "    b2 = ee.Image(img.select(['B2'])).divide(10000).rename([\"b2\"])\n",
    "    return b2\n",
    "\n",
    "def B3(img):\n",
    "    b3 = ee.Image(img.select(['B3'])).divide(10000).rename([\"b3\"])\n",
    "    print('add b3')\n",
    "    return b3\n",
    "\n",
    "def B4(img):\n",
    "    b4 = ee.Image(img.select(['B4'])).divide(10000).rename([\"b4\"])\n",
    "    return b4\n",
    "\n",
    "def B5(img):\n",
    "    b5 = ee.Image(img.select(['B5'])).divide(10000).rename([\"b5\"])\n",
    "    return b5"
   ]
  },
  {
   "cell_type": "code",
   "execution_count": 12,
   "metadata": {},
   "outputs": [],
   "source": [
    "def collection_to_array(lat_loc, lon_loc, date_dep, date_fin):\n",
    "    global dim_image, percentage_max_cloud_cover, Spectral_Band_init, Spectral_Functions, Sattelite\n",
    "    pas_lat = dim_image/111120\n",
    "    pas_lon = dim_image/111120\n",
    "\n",
    "    area = ee.Geometry.BBox(lon_loc - pas_lon/2, lat_loc-pas_lat/2, lon_loc + pas_lon/2, lat_loc + pas_lat/2)\n",
    "    pas_lon_cos = dim_image/(111120 * np.cos(lat_loc*np.pi/180))\n",
    "    area_cos = ee.Geometry.BBox(lon_loc - pas_lon_cos/2, lat_loc-pas_lat/2, lon_loc + pas_lon_cos/2, lat_loc + pas_lat/2)\n",
    "\n",
    "    collection = ee.ImageCollection(Sattelite).filterBounds(area_cos) \\\n",
    "                                      .filterDate(date_dep,date_fin) \\\n",
    "                                      #.filterMetadata(\"CLOUDY_PIXEL_PERCENTAGE\",\"less_than\",percentage_max_cloud_cover)\\\n",
    "                                      #.select(Spectral_Band_init) \\\n",
    "                                      \n",
    "                                      \n",
    "    print('collection')\n",
    "    nb_images = collection.size().getInfo()\n",
    "    print(f'{nb_images} images founded...')\n",
    "\n",
    "    if nb_images == 0:\n",
    "        raise NoImage(nb_images)\n",
    "\n",
    "    im_dict = dict()\n",
    "\n",
    "    \n",
    "    for _, funct in enumerate(Spectral_Functions):\n",
    "        myCollection  = collection.map(Spectral_Functions.get(funct))\n",
    "        img = ee.Image(myCollection.mean()).rename(['result'])\n",
    "        img = img.addBands(ee.Image.pixelLonLat())\n",
    "        img = img.reduceRegion(reducer=ee.Reducer.toList(),\\\n",
    "                                        geometry=area,\\\n",
    "                                        maxPixels=1e8,\\\n",
    "                                        scale=1)\n",
    "        data = np.array((ee.Array(img.get('result')).getInfo()))\n",
    "        lats = np.array((ee.Array(img.get(\"latitude\")).getInfo()))\n",
    "        lons = np.array((ee.Array(img.get(\"longitude\")).getInfo()))\n",
    "        uniqueLats = np.unique(lats)\n",
    "        uniqueLons = np.unique(lons)\n",
    "        ncols = len(uniqueLons)\n",
    "        nrows = len(uniqueLats)\n",
    "        arr = np.zeros([nrows, ncols], np.float32)\n",
    "        counter =0\n",
    "        for y in range(0,len(arr),1):\n",
    "            for x in range(0,len(arr[0]),1):\n",
    "                if lats[counter] == uniqueLats[y] and lons[counter] == uniqueLons[x] and counter < len(lats)-1:\n",
    "                    counter+=1\n",
    "                    arr[len(uniqueLats)-1-y,x] = data[counter]\n",
    "\n",
    "        im_dict[f'{funct}'] = arr\n",
    "\n",
    "        if funct==NDVI:\n",
    "            im_dict[f'TNDVI'] = np.sqrt(arr) + 0.5\n",
    "    \n",
    "    return im_dict\n",
    "    "
   ]
  },
  {
   "cell_type": "markdown",
   "metadata": {},
   "source": [
    "--------------"
   ]
  },
  {
   "cell_type": "markdown",
   "metadata": {},
   "source": [
    "USER'S PARAMETERS :"
   ]
  },
  {
   "cell_type": "code",
   "execution_count": 13,
   "metadata": {},
   "outputs": [],
   "source": [
    "Sattelite = 'LANDSAT/LT05/C02/T2'\n",
    "\n",
    "dim_image = 200 #mètres de côté"
   ]
  },
  {
   "cell_type": "markdown",
   "metadata": {},
   "source": [
    "OTHERS PARAMETERS"
   ]
  },
  {
   "cell_type": "markdown",
   "metadata": {},
   "source": [
    "Paramètre de pourcentage de couverture nuageuse (filtre) :"
   ]
  },
  {
   "cell_type": "code",
   "execution_count": 36,
   "metadata": {},
   "outputs": [],
   "source": [
    "#percentage_max_cloud_cover = 100"
   ]
  },
  {
   "cell_type": "markdown",
   "metadata": {},
   "source": [
    "Besoins en bandes spectrales (pour les fonctions) :"
   ]
  },
  {
   "cell_type": "code",
   "execution_count": 37,
   "metadata": {},
   "outputs": [],
   "source": [
    "#Spectral_Band_init = ['B2', 'B3', 'B4', 'B5']"
   ]
  },
  {
   "cell_type": "markdown",
   "metadata": {},
   "source": [
    "Important : garder le format dictionnaire"
   ]
  },
  {
   "cell_type": "code",
   "execution_count": 14,
   "metadata": {},
   "outputs": [],
   "source": [
    "Spectral_Functions = {'NDVI':NDVI, 'EVI':EVI, 'NDMI':NDMI, 'NDWI':NDWI, 'DSWI':DSWI}"
   ]
  },
  {
   "cell_type": "markdown",
   "metadata": {},
   "source": [
    "Moitié d'ouverture temporelle (centrée au 30 juin) :"
   ]
  },
  {
   "cell_type": "code",
   "execution_count": 15,
   "metadata": {},
   "outputs": [],
   "source": [
    "days = 15"
   ]
  },
  {
   "cell_type": "markdown",
   "metadata": {},
   "source": [
    "La collection d'images se fera entre date - days et date + days..."
   ]
  },
  {
   "cell_type": "markdown",
   "metadata": {},
   "source": [
    "------------"
   ]
  },
  {
   "cell_type": "markdown",
   "metadata": {},
   "source": [
    "IMAGES CAPTURE :"
   ]
  },
  {
   "cell_type": "code",
   "execution_count": 16,
   "metadata": {},
   "outputs": [
    {
     "name": "stdout",
     "output_type": "stream",
     "text": [
      "For campaign LFI1, all the images will be extracted for this years : [1984 1985]...\n",
      "--- PARCELLE 51 ---\n",
      "try1\n",
      "collection\n",
      "0 images founded...\n",
      "Zéro images for parcelle 51... so we tried with a days open of 60 days...\n",
      "collection\n",
      "1 images founded...\n",
      "This image traitment took 17.6266 seconds... \n",
      "--- PARCELLE 384 ---\n",
      "try1\n",
      "collection\n",
      "0 images founded...\n",
      "Zéro images for parcelle 384... so we tried with a days open of 60 days...\n",
      "collection\n",
      "1 images founded...\n",
      "This image traitment took 16.6913 seconds... \n",
      "--- PARCELLE 1239 ---\n",
      "try1\n",
      "collection\n",
      "2 images founded...\n",
      "This image traitment took 16.891 seconds... \n",
      "--- PARCELLE 1419 ---\n",
      "try1\n",
      "collection\n",
      "2 images founded...\n",
      "This image traitment took 15.2899 seconds... \n",
      "--- PARCELLE 1431 ---\n",
      "try1\n",
      "collection\n",
      "2 images founded...\n",
      "This image traitment took 16.3208 seconds... \n",
      "Finish !...\n",
      "But we have a problem with this list of parcelles : []\n"
     ]
    }
   ],
   "source": [
    "data_lfi = data_used.loc[data_used['LFI']==LFI,:]\n",
    "data_lfi['YEAR'] = data_lfi['DATE'].map(lambda d : d.year)\n",
    "if LFI=='LFI1':\n",
    "    data_lfi['YEAR'] = data_lfi['YEAR'].map(lambda d: 1984 if d==1983 else d)\n",
    "print (f\"For campaign {LFI}, all the images will be extracted for this years : {data_lfi['YEAR'].unique()}...\")\n",
    "\n",
    "# --- FORCE TEST YEAR --- \n",
    "#data_lfi['YEAR'] = 1990\n",
    "\n",
    "#data_lfi = data_lfi[0:5]\n",
    "\n",
    "# --- END TEST ---\n",
    "\n",
    "nb_lines = len(data_lfi)\n",
    "matrix_data = np.matrix(data_lfi)\n",
    "\n",
    "Stock_images_list =dict()\n",
    "Problem_list = []\n",
    "\n",
    "for i in range(nb_lines):\n",
    "    deb_image = time.time()\n",
    "    parc_name = matrix_data.item(i, 0)\n",
    "    print(f'--- PARCELLE {matrix_data.item(i, 0)} ---')\n",
    "    parc_dict=dict()\n",
    "    date_image = datetime.datetime.strptime(str(matrix_data.item(i, 5)) + '-06-30', '%Y-%m-%d')\n",
    "    date_dep = (date_image - datetime.timedelta(days=days))\n",
    "    date_fin = (date_image + datetime.timedelta(days=days))\n",
    "    date_dep_string = str(date_dep.year) + '-' + str(date_dep.month) + '-' + str(date_dep.day)\n",
    "    date_fin_string = str(date_fin.year) + '-' + str(date_fin.month) + '-' + str(date_fin.day)\n",
    "    lat_loc = matrix_data.item(i, 1)\n",
    "    lon_loc = matrix_data.item(i, 2)\n",
    "\n",
    "    try:\n",
    "        dict_images = collection_to_array(lat_loc, lon_loc, date_dep, date_fin)\n",
    "    except NoImage:\n",
    "        date_dep -= datetime.timedelta(days=days)\n",
    "        date_fin += datetime.timedelta(days=days)\n",
    "        print(f'Zéro images for parcelle {parc_name}... so we tried with a days open of {days*4} days...')\n",
    "        try:\n",
    "            dict_images = collection_to_array(lat_loc, lon_loc, date_dep, date_fin)\n",
    "        except NoImage:\n",
    "            date_dep -= datetime.timedelta(days=days)\n",
    "            date_fin += datetime.timedelta(days=days)\n",
    "            print(f'Zéro images for parcelle {parc_name}... so we tried with a days open of {days*8} days...')\n",
    "            try:\n",
    "                dict_images = collection_to_array(lat_loc, lon_loc, date_dep, date_fin)\n",
    "            except:\n",
    "                print(f'--- PROBLEM ! with parcelle {parc_name}... ---')\n",
    "                dict_images = np.nan\n",
    "                Problem_list.append(parc_name)\n",
    "        except:\n",
    "            print(f'--- PROBLEM ! with parcelle {parc_name}... ---')\n",
    "            dict_images = np.nan\n",
    "            Problem_list.append(parc_name)\n",
    "    except:\n",
    "        print(f'--- PROBLEM ! with parcelle {parc_name}... ---')\n",
    "        dict_images = np.nan\n",
    "        Problem_list.append(parc_name)\n",
    "\n",
    "\n",
    "    parc_dict['PARCELLE'] = matrix_data.item(i, 0)\n",
    "    parc_dict['LAT, LON'] = (lat_loc, lon_loc)\n",
    "    parc_dict['DATE_INIT'] = str(matrix_data.item(i, 3))\n",
    "    parc_dict['LFI'] = matrix_data.item(i, 4)\n",
    "    parc_dict['DATE_IMAGE_SAT'] = str(date_image)\n",
    "    parc_dict['IMAGES_SAT'] = dict_images\n",
    "    Stock_images_list[f'{matrix_data.item(i, 0)}'] = parc_dict\n",
    "    fin_image = time.time()\n",
    "    print(f'This image traitment took {round(fin_image - deb_image,4)} seconds... ')\n",
    "\n",
    "print('Finish !...')\n",
    "print(f'But we have a problem with this list of parcelles : {Problem_list}')\n"
   ]
  },
  {
   "cell_type": "markdown",
   "metadata": {},
   "source": [
    "Exportation of files :"
   ]
  },
  {
   "cell_type": "code",
   "execution_count": 17,
   "metadata": {},
   "outputs": [
    {
     "name": "stdout",
     "output_type": "stream",
     "text": [
      "... Exportation in a jsonfile...\n",
      "... Exportation done...\n",
      "... Exportation of the problematic parcelle's list in a text...\n",
      "...Exportation done...\n"
     ]
    }
   ],
   "source": [
    "print('... Exportation in a jsonfile...')\n",
    "\n",
    "list_json = json.dumps(Stock_images_list, cls=NumpyArrayEncoder)\n",
    "with open(f\"Results_Images_Stock/Images_{Sattelite.split('/')[0].split('-')[0]}_{LFI}.json\", \"w\") as outfile:\n",
    "    outfile.write(list_json)\n",
    "\n",
    "print('... Exportation done...')\n",
    "\n",
    "print('... Exportation of the problematic parcelle\\'s list in a text...')\n",
    "\n",
    "df_pb_list = pd.DataFrame(Problem_list, columns=['Problematic parcelles'])\n",
    "df_pb_list.to_csv('Problematic_parcelles.csv')\n",
    "\n",
    "print('...Exportation done...')"
   ]
  },
  {
   "cell_type": "markdown",
   "metadata": {},
   "source": [
    "---------------"
   ]
  },
  {
   "cell_type": "markdown",
   "metadata": {},
   "source": [
    "Test ouverture de fichier :"
   ]
  },
  {
   "cell_type": "code",
   "execution_count": 18,
   "metadata": {},
   "outputs": [],
   "source": [
    "with open(f\"Results_Images_Stock/Images_{Sattelite.split('/')[0].split('-')[0]}_{LFI}.json\", 'r') as openfile:\n",
    " \n",
    "    json_object = json.load(openfile)"
   ]
  },
  {
   "cell_type": "code",
   "execution_count": 19,
   "metadata": {},
   "outputs": [
    {
     "data": {
      "text/plain": [
       "'1985-03-27 00:00:00'"
      ]
     },
     "execution_count": 19,
     "metadata": {},
     "output_type": "execute_result"
    }
   ],
   "source": [
    "json_object['1419'].get('DATE_INIT')"
   ]
  },
  {
   "cell_type": "code",
   "execution_count": 20,
   "metadata": {},
   "outputs": [
    {
     "data": {
      "text/plain": [
       "'1985-06-30 00:00:00'"
      ]
     },
     "execution_count": 20,
     "metadata": {},
     "output_type": "execute_result"
    }
   ],
   "source": [
    "json_object['1419'].get('DATE_IMAGE_SAT')"
   ]
  },
  {
   "cell_type": "code",
   "execution_count": 21,
   "metadata": {},
   "outputs": [
    {
     "data": {
      "text/plain": [
       "[47.66018830721868, 8.996233931629856]"
      ]
     },
     "execution_count": 21,
     "metadata": {},
     "output_type": "execute_result"
    }
   ],
   "source": [
    "json_object['1419'].get('LAT, LON')"
   ]
  },
  {
   "cell_type": "code",
   "execution_count": 22,
   "metadata": {},
   "outputs": [
    {
     "data": {
      "image/png": "[encoded data removed]",
      "text/plain": [
       "<Figure size 640x480 with 1 Axes>"
      ]
     },
     "metadata": {},
     "output_type": "display_data"
    },
    {
     "data": {
      "image/png": "[encoded data removed]",
      "text/plain": [
       "<Figure size 640x480 with 1 Axes>"
      ]
     },
     "metadata": {},
     "output_type": "display_data"
    },
    {
     "data": {
      "image/png": "[encoded data removed]",
      "text/plain": [
       "<Figure size 640x480 with 1 Axes>"
      ]
     },
     "metadata": {},
     "output_type": "display_data"
    },
    {
     "data": {
      "image/png": "[encoded data removed]",
      "text/plain": [
       "<Figure size 640x480 with 1 Axes>"
      ]
     },
     "metadata": {},
     "output_type": "display_data"
    },
    {
     "data": {
      "image/png": "[encoded data removed]",
      "text/plain": [
       "<Figure size 640x480 with 1 Axes>"
      ]
     },
     "metadata": {},
     "output_type": "display_data"
    }
   ],
   "source": [
    "for _, funct in enumerate(json_object['1419'].get('IMAGES_SAT')):\n",
    "    plt.title(f'{funct}')\n",
    "    plt.imshow(json_object['1419'].get('IMAGES_SAT').get(funct), 'gray')\n",
    "    plt.show()"
   ]
  }
 ],
 "metadata": {
  "kernelspec": {
   "display_name": "Python 3 (ipykernel)",
   "language": "python",
   "name": "python3"
  },
  "language_info": {
   "codemirror_mode": {
    "name": "ipython",
    "version": 3
   },
   "file_extension": ".py",
   "mimetype": "text/x-python",
   "name": "python",
   "nbconvert_exporter": "python",
   "pygments_lexer": "ipython3",
   "version": "3.8.15"
  },
  "vscode": {
   "interpreter": {
    "hash": "1cca9558bc5ad879ec93cc030b157d75f18267527c60932cecaace349eef54dd"
   }
  }
 },
 "nbformat": 4,
 "nbformat_minor": 4
}
