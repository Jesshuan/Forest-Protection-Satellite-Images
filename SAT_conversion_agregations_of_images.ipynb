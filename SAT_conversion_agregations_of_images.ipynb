{
 "cells": [
  {
   "cell_type": "markdown",
   "metadata": {},
   "source": [
    "#### UTILITARY SCRIPT TO CONVERT IMAGES IN AGGREGATED DATA"
   ]
  },
  {
   "cell_type": "code",
   "execution_count": 38,
   "metadata": {},
   "outputs": [],
   "source": [
    "import pandas as pd\n",
    "import numpy as np\n",
    "import json\n",
    "import itertools\n"
   ]
  },
  {
   "cell_type": "code",
   "execution_count": 28,
   "metadata": {},
   "outputs": [],
   "source": [
    "DIM_AGREGATION = 25 # X 25 meters"
   ]
  },
  {
   "cell_type": "markdown",
   "metadata": {},
   "source": [
    "Import JSON File of satellites images :"
   ]
  },
  {
   "cell_type": "code",
   "execution_count": 11,
   "metadata": {},
   "outputs": [],
   "source": [
    "with open(f\"Results_Images_Stock/Images_LANDSAT_LFI4.json\", 'r') as openfile:\n",
    " \n",
    "    data = json.load(openfile)"
   ]
  },
  {
   "cell_type": "markdown",
   "metadata": {},
   "source": [
    "Verifications :"
   ]
  },
  {
   "cell_type": "code",
   "execution_count": 90,
   "metadata": {},
   "outputs": [
    {
     "data": {
      "text/plain": [
       "'LFI4'"
      ]
     },
     "execution_count": 90,
     "metadata": {},
     "output_type": "execute_result"
    }
   ],
   "source": [
    "data['51']['LFI']"
   ]
  },
  {
   "cell_type": "code",
   "execution_count": 26,
   "metadata": {},
   "outputs": [
    {
     "data": {
      "text/plain": [
       "(200, 200)"
      ]
     },
     "execution_count": 26,
     "metadata": {},
     "output_type": "execute_result"
    }
   ],
   "source": [
    "np.shape(data['51']['IMAGES_SAT']['NDVI'])"
   ]
  },
  {
   "cell_type": "markdown",
   "metadata": {},
   "source": [
    "Import list of parcelles :"
   ]
  },
  {
   "cell_type": "code",
   "execution_count": 92,
   "metadata": {},
   "outputs": [],
   "source": [
    "df = pd.read_excel('DataFrames/data_parcelles_with_gps.xlsx')"
   ]
  },
  {
   "cell_type": "code",
   "execution_count": 93,
   "metadata": {},
   "outputs": [],
   "source": [
    "df_result = df[['PARCELLE','LFI']]"
   ]
  },
  {
   "cell_type": "markdown",
   "metadata": {},
   "source": [
    "LFI Agregation (if error : correspondance false)"
   ]
  },
  {
   "cell_type": "code",
   "execution_count": 148,
   "metadata": {},
   "outputs": [],
   "source": [
    "LFI = data['51']['LFI']\n",
    "df_result = df_result.loc[df_result['LFI']==LFI,:].reset_index(drop=True)"
   ]
  },
  {
   "cell_type": "code",
   "execution_count": 103,
   "metadata": {},
   "outputs": [
    {
     "data": {
      "text/html": [
       "<div>\n",
       "<style scoped>\n",
       "    .dataframe tbody tr th:only-of-type {\n",
       "        vertical-align: middle;\n",
       "    }\n",
       "\n",
       "    .dataframe tbody tr th {\n",
       "        vertical-align: top;\n",
       "    }\n",
       "\n",
       "    .dataframe thead th {\n",
       "        text-align: right;\n",
       "    }\n",
       "</style>\n",
       "<table border=\"1\" class=\"dataframe\">\n",
       "  <thead>\n",
       "    <tr style=\"text-align: right;\">\n",
       "      <th></th>\n",
       "      <th>PARCELLE</th>\n",
       "      <th>LFI</th>\n",
       "    </tr>\n",
       "  </thead>\n",
       "  <tbody>\n",
       "    <tr>\n",
       "      <th>0</th>\n",
       "      <td>51</td>\n",
       "      <td>LFI4</td>\n",
       "    </tr>\n",
       "    <tr>\n",
       "      <th>1</th>\n",
       "      <td>384</td>\n",
       "      <td>LFI4</td>\n",
       "    </tr>\n",
       "    <tr>\n",
       "      <th>2</th>\n",
       "      <td>1239</td>\n",
       "      <td>LFI4</td>\n",
       "    </tr>\n",
       "    <tr>\n",
       "      <th>3</th>\n",
       "      <td>1419</td>\n",
       "      <td>LFI4</td>\n",
       "    </tr>\n",
       "    <tr>\n",
       "      <th>4</th>\n",
       "      <td>1431</td>\n",
       "      <td>LFI4</td>\n",
       "    </tr>\n",
       "  </tbody>\n",
       "</table>\n",
       "</div>"
      ],
      "text/plain": [
       "   PARCELLE   LFI\n",
       "0        51  LFI4\n",
       "1       384  LFI4\n",
       "2      1239  LFI4\n",
       "3      1419  LFI4\n",
       "4      1431  LFI4"
      ]
     },
     "execution_count": 103,
     "metadata": {},
     "output_type": "execute_result"
    }
   ],
   "source": [
    "df_result.head()"
   ]
  },
  {
   "cell_type": "markdown",
   "metadata": {},
   "source": [
    "Constants definitions :"
   ]
  },
  {
   "cell_type": "code",
   "execution_count": 139,
   "metadata": {},
   "outputs": [],
   "source": [
    "nb_parc = len(df_result)\n",
    "problematic_parcelles = []\n",
    "list_parcelle = df_result['PARCELLE'].tolist()\n",
    "width = np.shape(data['51']['IMAGES_SAT']['NDVI'])[0]\n",
    "height = np.shape(data['51']['IMAGES_SAT']['NDVI'])[1]\n",
    "range_w = np.arange(int((width - DIM_AGREGATION)/2), int((width + DIM_AGREGATION)/2))\n",
    "range_h = np.arange(int((height - DIM_AGREGATION)/2), int((height + DIM_AGREGATION)/2))\n",
    "ndvi_arr = np.empty(nb_parc)\n",
    "evi_arr = np.empty(nb_parc)\n",
    "ndmi_arr = np.empty(nb_parc)\n",
    "ndwi_arr = np.empty(nb_parc)\n",
    "dswi_arr = np.empty(nb_parc)\n",
    "MAPPING = {\n",
    "    'NDVI' : ndvi_arr,\n",
    "    'EVI' : evi_arr,\n",
    "    'NDMI' : ndmi_arr,\n",
    "    'NDWI' : ndwi_arr,\n",
    "    'DSWI' : dswi_arr\n",
    "}\n",
    "\n",
    "for ind, parc in enumerate(list_parcelle):\n",
    "    try:\n",
    "        for func_name, arr in MAPPING.items():\n",
    "            pixel_values = data[str(parc)]['IMAGES_SAT'][func_name]\n",
    "            arr[ind] = round(np.mean([pixel_values[tupl[0]][tupl[1]] for tupl in list(itertools.product(range_w,range_h))]),4)\n",
    "    except:\n",
    "        problematic_parcelles.append(parc)\n",
    "        for _ , arr in MAPPING.items():\n",
    "            arr[ind] = np.nan\n",
    "\n",
    "df_result['NDVI'] = ndvi_arr\n",
    "df_result['EVI'] = evi_arr\n",
    "df_result['NDMI'] = ndmi_arr\n",
    "df_result['NDWI'] = ndwi_arr\n",
    "df_result['DSWI'] = dswi_arr"
   ]
  },
  {
   "cell_type": "code",
   "execution_count": 151,
   "metadata": {},
   "outputs": [],
   "source": [
    "df_result.to_excel(f'./DATA_aggregated/Data_from_satellites_images_{LFI}.xlsx')"
   ]
  }
 ],
 "metadata": {
  "kernelspec": {
   "display_name": "Python 3.9.13 ('base')",
   "language": "python",
   "name": "python3"
  },
  "language_info": {
   "codemirror_mode": {
    "name": "ipython",
    "version": 3
   },
   "file_extension": ".py",
   "mimetype": "text/x-python",
   "name": "python",
   "nbconvert_exporter": "python",
   "pygments_lexer": "ipython3",
   "version": "3.9.13"
  },
  "orig_nbformat": 4,
  "vscode": {
   "interpreter": {
    "hash": "1cca9558bc5ad879ec93cc030b157d75f18267527c60932cecaace349eef54dd"
   }
  }
 },
 "nbformat": 4,
 "nbformat_minor": 2
}
