{
 "cells": [
  {
   "cell_type": "markdown",
   "metadata": {},
   "source": [
    "### CAPTURE SATELLITE IMAGES FOR PRESENT PERIOD (2017 - 2022)"
   ]
  },
  {
   "cell_type": "code",
   "execution_count": 36,
   "metadata": {},
   "outputs": [],
   "source": [
    "import ee\n",
    "import numpy as np\n",
    "import matplotlib.pyplot as plt\n",
    "import pandas as pd\n",
    "import datetime\n",
    "from datetime import date\n",
    "import json\n",
    "from json import JSONEncoder"
   ]
  },
  {
   "cell_type": "markdown",
   "metadata": {},
   "source": [
    "Authentification auprès de Google Engine :\n",
    "\n",
    "Cliquer sur le lien et suivre les instructions (avec compte google connecté) pour récupérer le token à copier-coller."
   ]
  },
  {
   "cell_type": "code",
   "execution_count": 2,
   "metadata": {},
   "outputs": [
    {
     "data": {
      "text/html": [
       "<p>To authorize access needed by Earth Engine, open the following\n",
       "        URL in a web browser and follow the instructions:</p>\n",
       "        <p><a href=https://code.earthengine.google.com/client-auth?scopes=https%3A//www.googleapis.com/auth/earthengine%20https%3A//www.googleapis.com/auth/devstorage.full_control&request_id=hIXSfg9MNEqG9DMOs_HUVUVc0lZxDYU-hIZPzHGrvm4&tc=sT1JghE1fA8JCiyfmuVlhetV9AXfLuOoq8XCU1bF2bE&cc=O8fgq97_wZTNo_B613OBbpCazR3YJMdlG0c_3tD39oY>https://code.earthengine.google.com/client-auth?scopes=https%3A//www.googleapis.com/auth/earthengine%20https%3A//www.googleapis.com/auth/devstorage.full_control&request_id=hIXSfg9MNEqG9DMOs_HUVUVc0lZxDYU-hIZPzHGrvm4&tc=sT1JghE1fA8JCiyfmuVlhetV9AXfLuOoq8XCU1bF2bE&cc=O8fgq97_wZTNo_B613OBbpCazR3YJMdlG0c_3tD39oY</a></p>\n",
       "        <p>The authorization workflow will generate a code, which you should paste in the box below.</p>\n",
       "        "
      ],
      "text/plain": [
       "<IPython.core.display.HTML object>"
      ]
     },
     "metadata": {},
     "output_type": "display_data"
    },
    {
     "name": "stdout",
     "output_type": "stream",
     "text": [
      "\n",
      "Successfully saved authorization token.\n",
      "NASADEM: NASA NASADEM Digital Elevation 30m\n"
     ]
    }
   ],
   "source": [
    "ee.Authenticate()\n",
    "ee.Initialize()\n",
    "print(ee.Image(\"NASA/NASADEM_HGT/001\").get(\"title\").getInfo())"
   ]
  },
  {
   "cell_type": "markdown",
   "metadata": {},
   "source": [
    "-----------"
   ]
  },
  {
   "cell_type": "markdown",
   "metadata": {},
   "source": [
    "CLASS FOR EXCEPTIONS :"
   ]
  },
  {
   "cell_type": "code",
   "execution_count": 4,
   "metadata": {},
   "outputs": [],
   "source": [
    "class NoImage(Exception):\n",
    "    def __init__(self, nb_image):\n",
    "        self.__nb_image = nb_image\n",
    "\n",
    "    @property\n",
    "    def nb_image(self):\n",
    "        return self.nb_image"
   ]
  },
  {
   "cell_type": "code",
   "execution_count": 39,
   "metadata": {},
   "outputs": [],
   "source": [
    "class NumpyArrayEncoder(JSONEncoder):\n",
    "    def default(self, obj):\n",
    "        if isinstance(obj, np.ndarray):\n",
    "            return obj.tolist()\n",
    "        if isinstance(obj, (datetime, date)):\n",
    "            return str(obj)\n",
    "        return json.JSONEncoder.default(self, obj)"
   ]
  },
  {
   "cell_type": "markdown",
   "metadata": {},
   "source": [
    "FUNCTIONS (FOR SENTINEL_2):"
   ]
  },
  {
   "cell_type": "code",
   "execution_count": 3,
   "metadata": {},
   "outputs": [],
   "source": [
    "def NDVI(img): #repère la végétation tout simplement\n",
    "    img = ee.Image(img.normalizedDifference(['B8', 'B4'])).rename([\"ndvi\"])\n",
    "    return img\n",
    "\n",
    "def EVI(img): #idem NDVI, plus fiable et fin en théorie\n",
    "    img = ee.Image(img.expression(\n",
    "        '2.5 * ((NIR - RED) / (NIR + 6 * RED - 7.5 * BLUE + 1))', {\n",
    "            'NIR': img.select('B8').divide(10000),\n",
    "            'RED': img.select('B4').divide(10000),\n",
    "            'BLUE': img.select('B2').divide(10000)\n",
    "        })).rename([\"evi\"])\n",
    "    \n",
    "    return img\n",
    "\n",
    "def NDMI(img): #repère la teneur en eau dans la végétation\n",
    "    img = ee.Image(img.normalizedDifference(['B8', 'B11'])).rename([\"ndmi\"])\n",
    "    #img = ee.Image(img.expression(\n",
    "    #    '(NIR - SWITCH) / (SWITCH + NIR)', {\n",
    "    #        'NIR': img.select('B8').divide(10000),\n",
    "    #        'SWITCH': img.select('B11').divide(10000)\n",
    "    #   })).rename([\"ndmi\"])\n",
    "    return img\n",
    "\n",
    "def NDWI(img): #teneur en d'eau en surface\n",
    "    img = ee.Image(img.normalizedDifference(['B3', 'B8'])).rename([\"ndwi\"])\n",
    "    #img = ee.Image(img.expression(\n",
    "    #    '(GREEN - NIR) / (GREEN + NIR)', {\n",
    "     #       'NIR': img.select('B8').divide(10000),\n",
    "     #       'GREEN': img.select('B3').divide(10000)\n",
    "     #   })).rename([\"ndwi\"])\n",
    "    return img\n",
    "\n",
    "\n",
    "def PSSra(img): #indice de pigmentation de la végétation\n",
    "    img = ee.Image(img.expression(\n",
    "        'NIRinf / RED', {\n",
    "            'NIRinf': img.select('B7').divide(10000),\n",
    "            'RED': img.select('B4').divide(10000),\n",
    "        })).rename([\"pssra\"])\n",
    "    \n",
    "    return img\n",
    "\n",
    "def MCARI(img): #Modified Chlorophyll Absorption Ratio Index\n",
    "    img = ee.Image(img.expression(\n",
    "        '((RED2 - RED) - 0.2 * (RED2 - GREEN)) * (RED2 - RED)', {\n",
    "            'RED2': img.select('B5').divide(10000),\n",
    "            'RED': img.select('B4').divide(10000),\n",
    "            'GREEN': img.select('B3').divide(10000)\n",
    "        })).rename([\"mcari\"])\n",
    "    \n",
    "    return img\n",
    "\n",
    "\n",
    "def DSWI(img): # Disease Water Stress Index sensitive to stress due to water shortage and plant damage\n",
    "    img = ee.Image(img.expression(\n",
    "        '(NIR - GREEN) / (SWIR1 + RED)', {\n",
    "            'NIR': img.select('B8').divide(10000),\n",
    "            'RED': img.select('B4').divide(10000),\n",
    "            'GREEN': img.select('B3').divide(10000),\n",
    "            'SWIR1': img.select('B11').divide(10000),\n",
    "        })).rename([\"dswi\"])\n",
    "    \n",
    "    return img\n",
    "\n",
    "\n",
    "def B2(img):\n",
    "    b2 = ee.Image(img.select(['B2'])).divide(10000).rename([\"b2\"])\n",
    "    return b2\n",
    "\n",
    "def B3(img):\n",
    "    b3 = ee.Image(img.select(['B3'])).divide(10000).rename([\"b3\"])\n",
    "    return b3\n",
    "\n",
    "def B4(img):\n",
    "    b4 = ee.Image(img.select(['B4'])).divide(10000).rename([\"b4\"])\n",
    "    return b4\n",
    "\n",
    "def B5(img):\n",
    "    b5 = ee.Image(img.select(['B5'])).divide(10000).rename([\"b5\"])\n",
    "    return b5\n",
    "\n",
    "def B6(img):\n",
    "    b6 = ee.Image(img.select(['B6'])).divide(10000).rename([\"b6\"])\n",
    "    return b6\n",
    "\n",
    "def B7(img):\n",
    "    b7 = ee.Image(img.select(['B7'])).divide(10000).rename([\"b7\"])\n",
    "    return b7\n",
    "\n",
    "def B8(img):\n",
    "    b8 = ee.Image(img.select(['B8'])).divide(10000).rename([\"b8\"])\n",
    "    return b8\n",
    "\n",
    "def B11(img):\n",
    "    b11 = ee.Image(img.select(['B11'])).divide(10000).rename([\"b11\"])\n",
    "    return b11\n"
   ]
  },
  {
   "cell_type": "code",
   "execution_count": 6,
   "metadata": {},
   "outputs": [],
   "source": [
    "def collection_to_array(lat_loc, lon_loc, date_dep, date_fin):\n",
    "    global dim_image, percentage_max_cloud_cover, Spectral_Band_init, Spectral_Functions\n",
    "    pas_lat = dim_image/111120\n",
    "    pas_lon = dim_image/111120\n",
    "    area = ee.Geometry.BBox(lon_loc - pas_lon/2, lat_loc-pas_lat/2, lon_loc + pas_lon/2, lat_loc + pas_lat/2)\n",
    "\n",
    "    collection = ee.ImageCollection(\"COPERNICUS/S2_SR_HARMONIZED\").filterBounds(area) \\\n",
    "                                      .filterDate(date_dep,date_fin) \\\n",
    "                                      .filterMetadata(\"CLOUDY_PIXEL_PERCENTAGE\",\"less_than\",percentage_max_cloud_cover)\\\n",
    "                                      .select(Spectral_Band_init)\n",
    "\n",
    "    nb_images = collection.size().getInfo()\n",
    "    print(f'{nb_images} images founded...')\n",
    "\n",
    "    if nb_images == 0:\n",
    "        raise NoImage(nb_images)\n",
    "\n",
    "    im_dict = dict()\n",
    "\n",
    "    \n",
    "    for _, funct in enumerate(Spectral_Functions):\n",
    "        myCollection  = collection.map(Spectral_Functions.get(funct))\n",
    "        img = ee.Image(myCollection.mean()).rename([\"result\"])\n",
    "        img = img.addBands(ee.Image.pixelLonLat())\n",
    "        img = img.reduceRegion(reducer=ee.Reducer.toList(),\\\n",
    "                                        geometry=area,\\\n",
    "                                        maxPixels=1e8,\\\n",
    "                                        scale=1)\n",
    " \n",
    "        data = np.array((ee.Array(img.get(\"result\")).getInfo()))\n",
    "        lats = np.array((ee.Array(img.get(\"latitude\")).getInfo()))\n",
    "        lons = np.array((ee.Array(img.get(\"longitude\")).getInfo()))\n",
    "        uniqueLats = np.unique(lats)\n",
    "        uniqueLons = np.unique(lons)\n",
    "        ncols = len(uniqueLons)\n",
    "        nrows = len(uniqueLats)\n",
    "        arr = np.zeros([nrows, ncols], np.float32)\n",
    "        counter =0\n",
    "        for y in range(0,len(arr),1):\n",
    "            for x in range(0,len(arr[0]),1):\n",
    "                if lats[counter] == uniqueLats[y] and lons[counter] == uniqueLons[x] and counter < len(lats)-1:\n",
    "                    counter+=1\n",
    "                    arr[len(uniqueLats)-1-y,x] = data[counter]\n",
    "\n",
    "        im_dict[f'{funct}'] = arr\n",
    "\n",
    "        if funct==NDVI:\n",
    "            im_dict[f'TNDVI'] = np.sqrt(arr) + 0.5\n",
    "    \n",
    "    return im_dict\n",
    "    \n",
    "\n",
    "    "
   ]
  },
  {
   "cell_type": "markdown",
   "metadata": {},
   "source": [
    "-----------------------"
   ]
  },
  {
   "cell_type": "markdown",
   "metadata": {},
   "source": [
    "IMPORT DATA :"
   ]
  },
  {
   "cell_type": "code",
   "execution_count": 7,
   "metadata": {},
   "outputs": [],
   "source": [
    "data = pd.read_excel('./DataFrames/data_parcelles_with_gps.xlsx')"
   ]
  },
  {
   "cell_type": "code",
   "execution_count": 8,
   "metadata": {},
   "outputs": [],
   "source": [
    "data_used = data[['PARCELLE','LAT', 'LON','DATE','LFI']]"
   ]
  },
  {
   "cell_type": "markdown",
   "metadata": {},
   "source": [
    "--------------"
   ]
  },
  {
   "cell_type": "markdown",
   "metadata": {},
   "source": [
    "USER PARAMETERS :"
   ]
  },
  {
   "cell_type": "code",
   "execution_count": 65,
   "metadata": {},
   "outputs": [],
   "source": [
    "dim_image = 200 #mètres de côté"
   ]
  },
  {
   "cell_type": "markdown",
   "metadata": {},
   "source": [
    "Choix de la campagne :"
   ]
  },
  {
   "cell_type": "code",
   "execution_count": 66,
   "metadata": {},
   "outputs": [],
   "source": [
    "LFI = 'LFI1'"
   ]
  },
  {
   "cell_type": "markdown",
   "metadata": {},
   "source": [
    "Paramètre de pourcentage de couverture nuageuse (filtre) :"
   ]
  },
  {
   "cell_type": "code",
   "execution_count": 67,
   "metadata": {},
   "outputs": [],
   "source": [
    "percentage_max_cloud_cover = 5"
   ]
  },
  {
   "cell_type": "markdown",
   "metadata": {},
   "source": [
    "Besoins en bandes spectrales (pour les fonctions) :"
   ]
  },
  {
   "cell_type": "code",
   "execution_count": 68,
   "metadata": {},
   "outputs": [],
   "source": [
    "Spectral_Band_init = ['B2', 'B3', 'B4', 'B5', 'B7', 'B8', 'B11']"
   ]
  },
  {
   "cell_type": "markdown",
   "metadata": {},
   "source": [
    "Bandes spectacles retenues (les bandes nécéssaires aux fonctions ci-dessous doivent se trouver dans la cellule juste au-dessus) :"
   ]
  },
  {
   "cell_type": "markdown",
   "metadata": {},
   "source": [
    "Important : garder le format dictionnaire"
   ]
  },
  {
   "cell_type": "code",
   "execution_count": 69,
   "metadata": {},
   "outputs": [],
   "source": [
    "Spectral_Functions = {'NDVI':NDVI, 'EVI':EVI}"
   ]
  },
  {
   "cell_type": "markdown",
   "metadata": {},
   "source": [
    "Moitié d'ouverture temporelle (centrée au 30 juin) :"
   ]
  },
  {
   "cell_type": "code",
   "execution_count": 70,
   "metadata": {},
   "outputs": [],
   "source": [
    "days = 7"
   ]
  },
  {
   "cell_type": "markdown",
   "metadata": {},
   "source": [
    "La collection d'images se fera entre date - days et date + days..."
   ]
  },
  {
   "cell_type": "markdown",
   "metadata": {},
   "source": [
    "------------"
   ]
  },
  {
   "cell_type": "markdown",
   "metadata": {},
   "source": [
    "IMAGES CAPTURE :"
   ]
  },
  {
   "cell_type": "code",
   "execution_count": 76,
   "metadata": {},
   "outputs": [
    {
     "name": "stdout",
     "output_type": "stream",
     "text": [
      "Parcelle 51...\n",
      "0 images founded...\n",
      "Zéro images for parcelle 51... so we tried with a days open of 28 days...\n",
      "1 images founded...\n",
      "Parcelle 384...\n",
      "0 images founded...\n",
      "Zéro images for parcelle 384... so we tried with a days open of 28 days...\n",
      "1 images founded...\n",
      "Parcelle 1239...\n",
      "0 images founded...\n",
      "Zéro images for parcelle 1239... so we tried with a days open of 28 days...\n",
      "2 images founded...\n"
     ]
    }
   ],
   "source": [
    "data_lfi = data_used.loc[data_used['LFI']==LFI,:]\n",
    "data_lfi['YEAR'] = data_lfi['DATE'].map(lambda d : d.year)\n",
    "if LFI=='LFI1':\n",
    "    data_lfi['YEAR'] = data_lfi['YEAR'].map(lambda d: 1984 if d==1983 else d)\n",
    "data_lfi.YEAR.unique()\n",
    "\n",
    "data_lfi['YEAR'] = 2021\n",
    "\n",
    "nb_lines = len(data_lfi)\n",
    "matrix_data = np.matrix(data_lfi)\n",
    "\n",
    "Stock_images_list =dict()\n",
    "\n",
    "for i in range(nb_lines):\n",
    "    print(f'Parcelle {matrix_data.item(i, 0)}...')\n",
    "    parc_dict=dict()\n",
    "    date_image = datetime.datetime.strptime(str(matrix_data.item(i, 5)) + '-06-30', '%Y-%m-%d')\n",
    "    date_dep = (date_image - datetime.timedelta(days=days))\n",
    "    date_fin = (date_image + datetime.timedelta(days=days))\n",
    "    date_dep_string = str(date_dep.year) + '-' + str(date_dep.month) + '-' + str(date_dep.day)\n",
    "    date_fin_string = str(date_fin.year) + '-' + str(date_fin.month) + '-' + str(date_fin.day)\n",
    "    lat_loc = matrix_data.item(i, 1)\n",
    "    lon_loc = matrix_data.item(i, 2)\n",
    "\n",
    "    try:\n",
    "        dict_images = collection_to_array(lat_loc, lon_loc, date_dep, date_fin)\n",
    "    except NoImage:\n",
    "        date_dep -= datetime.timedelta(days=days)\n",
    "        date_fin += datetime.timedelta(days=days)\n",
    "        print(f'Zéro images for parcelle {matrix_data.item(i, 0)}... so we tried with a days open of {days*4} days...')\n",
    "        try:\n",
    "            dict_images = collection_to_array(lat_loc, lon_loc, date_dep, date_fin)\n",
    "        except NoImage:\n",
    "            date_dep -= datetime.timedelta(days=days)\n",
    "            date_fin += datetime.timedelta(days=days)\n",
    "            print(f'Zéro images for parcelle {matrix_data.item(i, 0)}... so we tried with a days open of {days*8} days...')\n",
    "            try:\n",
    "                dict_images = collection_to_array(lat_loc, lon_loc, date_dep, date_fin)\n",
    "            except:\n",
    "                print(f'Problem with parcelle {matrix_data.item(i, 0)}...')\n",
    "                dict_images = np.nan\n",
    "        except:\n",
    "            print(f'Problem with parcelle {matrix_data.item(i, 0)}...')\n",
    "            dict_images = np.nan\n",
    "    except:\n",
    "        print(f'Problem with parcelle {matrix_data.item(i, 0)}...')\n",
    "        dict_images = np.nan\n",
    "\n",
    "\n",
    "    parc_dict['PARCELLE'] = matrix_data.item(i, 0)\n",
    "    parc_dict['LAT, LON'] = (lat_loc, lon_loc)\n",
    "    parc_dict['DATE_INIT'] = str(matrix_data.item(i, 3))\n",
    "    parc_dict['LFI'] = matrix_data.item(i, 4)\n",
    "    parc_dict['DATE_IMAGE_SAT'] = str(date_image)\n",
    "    parc_dict['IMAGES_SAT'] = dict_images\n",
    "    Stock_images_list[f'{matrix_data.item(i, 0)}'] = parc_dict\n",
    "\n",
    "list_json = json.dumps(Stock_images_list, cls=NumpyArrayEncoder)\n",
    "\n",
    "with open(f\"Images_SENTINEL_2_{LFI}.json\", \"w\") as outfile:\n",
    "    outfile.write(list_json)\n",
    "\n",
    "\n"
   ]
  },
  {
   "cell_type": "markdown",
   "metadata": {},
   "source": [
    "---------------"
   ]
  },
  {
   "cell_type": "markdown",
   "metadata": {},
   "source": [
    "Test ouverture de fichier :"
   ]
  },
  {
   "cell_type": "code",
   "execution_count": 80,
   "metadata": {},
   "outputs": [],
   "source": [
    "with open('sample.json', 'r') as openfile:\n",
    " \n",
    "    json_object = json.load(openfile)"
   ]
  },
  {
   "cell_type": "code",
   "execution_count": 86,
   "metadata": {},
   "outputs": [
    {
     "data": {
      "text/plain": [
       "str"
      ]
     },
     "execution_count": 86,
     "metadata": {},
     "output_type": "execute_result"
    }
   ],
   "source": [
    "json_object['51'].get('DATE_IMAGE_SAT')"
   ]
  },
  {
   "cell_type": "code",
   "execution_count": 81,
   "metadata": {},
   "outputs": [
    {
     "data": {
      "text/plain": [
       "<matplotlib.image.AxesImage at 0x1eba97d5640>"
      ]
     },
     "execution_count": 81,
     "metadata": {},
     "output_type": "execute_result"
    },
    {
     "data": {
      "image/png": "[encoded data removed]",
      "text/plain": [
       "<Figure size 640x480 with 1 Axes>"
      ]
     },
     "metadata": {},
     "output_type": "display_data"
    }
   ],
   "source": [
    "plt.imshow(json_object['51'].get('IMAGES_SAT').get('EVI'), 'gray')"
   ]
  }
 ],
 "metadata": {
  "kernelspec": {
   "display_name": "Python 3 (ipykernel)",
   "language": "python",
   "name": "python3"
  },
  "language_info": {
   "codemirror_mode": {
    "name": "ipython",
    "version": 3
   },
   "file_extension": ".py",
   "mimetype": "text/x-python",
   "name": "python",
   "nbconvert_exporter": "python",
   "pygments_lexer": "ipython3",
   "version": "3.9.13"
  },
  "vscode": {
   "interpreter": {
    "hash": "1cca9558bc5ad879ec93cc030b157d75f18267527c60932cecaace349eef54dd"
   }
  }
 },
 "nbformat": 4,
 "nbformat_minor": 4
}
